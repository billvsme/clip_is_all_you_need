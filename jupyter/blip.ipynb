{
  "cells": [
    {
      "cell_type": "code",
      "execution_count": null,
      "id": "c2da0ec9-40ca-40e0-b80b-e9d84da6969e",
      "metadata": {
        "id": "c2da0ec9-40ca-40e0-b80b-e9d84da6969e"
      },
      "outputs": [],
      "source": [
        "\"\"\"下载模型\n",
        "\"\"\"\n",
        "!mkdir -p /content/modelsw\n",
        "!git clone --depth=1 https://huggingface.co/Salesforce/blip-image-captioning-large  /content/models/blip-image-captioning-large"
      ]
    },
    {
      "cell_type": "code",
      "execution_count": null,
      "id": "90d44bfe-1eae-4753-bda5-d45284e68b34",
      "metadata": {
        "id": "90d44bfe-1eae-4753-bda5-d45284e68b34"
      },
      "outputs": [],
      "source": [
        "\"\"\"生成图像描述\n",
        "\"\"\"\n",
        "from IPython.display import display\n",
        "import requests\n",
        "from PIL import Image\n",
        "from transformers import BlipProcessor, BlipForConditionalGeneration\n",
        "\n",
        "model_id = \"/content/models/blip-image-captioning-large/\"\n",
        "\n",
        "processor = BlipProcessor.from_pretrained(model_id)\n",
        "model = BlipForConditionalGeneration.from_pretrained(model_id)\n",
        "model.to(\"cuda\")\n",
        "\n",
        "img_url = 'https://storage.googleapis.com/sfr-vision-language-research/BLIP/demo.jpg'\n",
        "raw_image = Image.open(requests.get(img_url, stream=True).raw).convert('RGB')\n",
        "# 有提示\n",
        "text = \"a photography of\"\n",
        "inputs = processor(raw_image, text, return_tensors=\"pt\").to(\"cuda\")\n",
        "\n",
        "out = model.generate(**inputs)\n",
        "print(\"=\"*20)\n",
        "print(\"描述：\", processor.decode(out[0], skip_special_tokens=True))\n",
        "\n",
        "# 没有提示\n",
        "inputs = processor(raw_image, return_tensors=\"pt\").to(\"cuda\")\n",
        "\n",
        "out = model.generate(**inputs)\n",
        "print(\"=\"*20)\n",
        "print(\"描述：\", processor.decode(out[0], skip_special_tokens=True))\n",
        "\n",
        "display(raw_image)"
      ]
    },
    {
      "cell_type": "code",
      "execution_count": null,
      "id": "910b6451-8af7-4111-adf9-143c93a6821b",
      "metadata": {
        "id": "910b6451-8af7-4111-adf9-143c93a6821b"
      },
      "outputs": [],
      "source": []
    }
  ],
  "metadata": {
    "kernelspec": {
      "display_name": "Python 3",
      "name": "python3"
    },
    "language_info": {
      "codemirror_mode": {
        "name": "ipython",
        "version": 3
      },
      "file_extension": ".py",
      "mimetype": "text/x-python",
      "name": "python",
      "nbconvert_exporter": "python",
      "pygments_lexer": "ipython3",
      "version": "3.10.13"
    },
    "colab": {
      "provenance": [],
      "machine_shape": "hm",
      "gpuType": "T4"
    },
    "accelerator": "GPU"
  },
  "nbformat": 4,
  "nbformat_minor": 5
}