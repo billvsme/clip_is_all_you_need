{
  "nbformat": 4,
  "nbformat_minor": 0,
  "metadata": {
    "colab": {
      "provenance": [],
      "gpuType": "T4",
      "machine_shape": "hm"
    },
    "kernelspec": {
      "name": "python3",
      "display_name": "Python 3"
    },
    "language_info": {
      "name": "python"
    },
    "accelerator": "GPU"
  },
  "cells": [
    {
      "cell_type": "code",
      "source": [
        "\"\"\"下载模型\n",
        "\"\"\"\n",
        "!mkdir /content/models\n",
        "!git clone --depth=1 https://huggingface.co/Salesforce/blip2-opt-2.7b /content/models/blip2-opt-2.7b"
      ],
      "metadata": {
        "id": "BNiQc1C0_3IT"
      },
      "execution_count": null,
      "outputs": []
    },
    {
      "cell_type": "code",
      "source": [
        "\"\"\"图像问答\n",
        "\"\"\"\n",
        "from IPython.display import display\n",
        "import torch\n",
        "import requests\n",
        "from PIL import Image\n",
        "from transformers import Blip2Processor, Blip2ForConditionalGeneration\n",
        "\n",
        "model_id = \"/content/models/blip2-opt-2.7b\"\n",
        "processor = Blip2Processor.from_pretrained(model_id)\n",
        "model = Blip2ForConditionalGeneration.from_pretrained(model_id, torch_dtype=torch.float16, device_map={\"\": \"cuda\"})\n",
        "\n",
        "img_url = 'http://images.cocodataset.org/val2017/000000039769.jpg'\n",
        "raw_image = Image.open(requests.get(img_url, stream=True).raw).convert('RGB')\n",
        "\n",
        "\n",
        "question = \"how many cats are there? \"\n",
        "# 注意prompt格式\n",
        "prompt = f\"Question: {question} Answer:\"\n",
        "inputs = processor(raw_image, prompt, return_tensors=\"pt\").to(\"cuda\", torch.float16)\n",
        "\n",
        "out = model.generate(**inputs)\n",
        "\n",
        "print(\"问题:\", question)\n",
        "print(\"回答:\", processor.decode(out[0], skip_special_tokens=True).strip())\n",
        "display(raw_image)"
      ],
      "metadata": {
        "id": "jaWEEwhTD0vW"
      },
      "execution_count": null,
      "outputs": []
    }
  ]
}