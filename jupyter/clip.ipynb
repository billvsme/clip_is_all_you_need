{
  "nbformat": 4,
  "nbformat_minor": 0,
  "metadata": {
    "colab": {
      "provenance": [],
      "gpuType": "T4"
    },
    "kernelspec": {
      "name": "python3",
      "display_name": "Python 3"
    },
    "language_info": {
      "name": "python"
    },
    "accelerator": "GPU"
  },
  "cells": [
    {
      "cell_type": "code",
      "execution_count": null,
      "metadata": {
        "id": "e1copy4hVP0t"
      },
      "outputs": [],
      "source": [
        "\"\"\"下载模型\n",
        "\"\"\"\n",
        "!mkdir -p /content/models\n",
        "!git clone https://huggingface.co/openai/clip-vit-large-patch14 /content/models/clip-vit-large-patch14"
      ]
    },
    {
      "cell_type": "code",
      "source": [
        "\"\"\"demo\n",
        "\"\"\"\n",
        "from IPython.display import display\n",
        "from PIL import Image\n",
        "import requests\n",
        "\n",
        "from transformers import CLIPProcessor, CLIPModel\n",
        "\n",
        "model = CLIPModel.from_pretrained(\"/content/models/clip-vit-large-patch14\")\n",
        "processor = CLIPProcessor.from_pretrained(\"/content/models/clip-vit-large-patch14\")\n",
        "\n",
        "url = \"http://images.cocodataset.org/val2017/000000039769.jpg\"\n",
        "image = Image.open(requests.get(url, stream=True).raw)\n",
        "\n",
        "docs = [\"a photo of a dog\", \"a photo of a cat\", \"a photo of a pig\"]\n",
        "inputs = processor(text=docs, images=image, return_tensors=\"pt\", padding=True)\n",
        "\n",
        "outputs = model(**inputs)\n",
        "logits_per_image = outputs.logits_per_image # this is the image-text similarity score\n",
        "probs = logits_per_image.softmax(dim=1) # we can take the softmax to get the label probabilities\n",
        "\n",
        "## image text match\n",
        "print(\"匹配:\", docs[probs.argmax(dim=1)])\n",
        "display(image)"
      ],
      "metadata": {
        "id": "eC_HJ8o1V1-8"
      },
      "execution_count": null,
      "outputs": []
    }
  ]
}