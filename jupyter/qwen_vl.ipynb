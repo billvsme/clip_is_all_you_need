{
  "nbformat": 4,
  "nbformat_minor": 0,
  "metadata": {
    "colab": {
      "provenance": [],
      "gpuType": "T4",
      "machine_shape": "hm"
    },
    "kernelspec": {
      "name": "python3",
      "display_name": "Python 3"
    },
    "language_info": {
      "name": "python"
    },
    "accelerator": "GPU"
  },
  "cells": [
    {
      "cell_type": "code",
      "source": [
        "\"\"\"安装依赖\n",
        "\"\"\"\n",
        "!pip install tiktoken einops transformers_stream_generator accelerate bitsandbytes optimum auto-gptq"
      ],
      "metadata": {
        "id": "_oSdlMJrwV6_"
      },
      "execution_count": null,
      "outputs": []
    },
    {
      "cell_type": "code",
      "source": [
        "\"\"\"下载模型\n",
        "\"\"\"\n",
        "!mkdir /content/models\n",
        "!git clone --depth=1 https://huggingface.co/Qwen/Qwen-VL-Chat-Int4 /content/models/Qwen-VL-Chat-Int4"
      ],
      "metadata": {
        "id": "BNiQc1C0_3IT"
      },
      "execution_count": null,
      "outputs": []
    },
    {
      "cell_type": "code",
      "source": [
        "\"\"\"图像问答\n",
        "\"\"\"\n",
        "from IPython.display import display\n",
        "from PIL import Image\n",
        "from transformers import AutoModelForCausalLM, AutoTokenizer\n",
        "from transformers.generation import GenerationConfig\n",
        "import torch\n",
        "torch.manual_seed(1234)\n",
        "\n",
        "model_id = \"/content/models/Qwen-VL-Chat-Int4/\"\n",
        "tokenizer = AutoTokenizer.from_pretrained(model_id, trust_remote_code=True)\n",
        "\n",
        "model = AutoModelForCausalLM.from_pretrained(model_id, trust_remote_code=True, device_map=\"cuda\", fp16=True,).eval()\n",
        "\n",
        "model.generation_config = GenerationConfig.from_pretrained(model_id, trust_remote_code=True)\n",
        "\n",
        "# 图片问答\n",
        "question = '图里有几只猫？'\n",
        "query = tokenizer.from_list_format([\n",
        "    {'image': 'http://images.cocodataset.org/val2017/000000039769.jpg'}, # Either a local path or an url\n",
        "    {'text': question},\n",
        "])\n",
        "response, history = model.chat(tokenizer, query=query, history=None)\n",
        "print(\"问题:\", question)\n",
        "print(\"回答:\", response)\n",
        "\n",
        "# 边界框检测\n",
        "question = '框出图中的猫'\n",
        "response, history = model.chat(tokenizer, question, history=history)\n",
        "print(\"问题:\", question)\n",
        "print(\"回答:\")\n",
        "image = tokenizer.draw_bbox_on_latest_picture(response, history)\n",
        "if image:\n",
        "  display(Image.fromarray(image.get_image()))\n",
        "else:\n",
        "  print(\"no box\")"
      ],
      "metadata": {
        "id": "jaWEEwhTD0vW"
      },
      "execution_count": null,
      "outputs": []
    }
  ]
}