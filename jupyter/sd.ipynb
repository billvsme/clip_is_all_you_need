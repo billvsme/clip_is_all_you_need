{
  "nbformat": 4,
  "nbformat_minor": 0,
  "metadata": {
    "colab": {
      "provenance": [],
      "gpuType": "T4",
      "machine_shape": "hm"
    },
    "kernelspec": {
      "name": "python3",
      "display_name": "Python 3"
    },
    "language_info": {
      "name": "python"
    },
    "accelerator": "GPU"
  },
  "cells": [
    {
      "cell_type": "code",
      "source": [
        "\"\"\"安装依赖\n",
        "\"\"\"\n",
        "!pip install diffusers"
      ],
      "metadata": {
        "id": "h1Ul_zDaAy8S"
      },
      "execution_count": null,
      "outputs": []
    },
    {
      "cell_type": "code",
      "source": [
        "\"\"\"下载模型\n",
        "\"\"\"\n",
        "!mkdir /content/models\n",
        "!git clone --depth=1 https://huggingface.co/runwayml/stable-diffusion-v1-5 /content/models/stable-diffusion-v1-5"
      ],
      "metadata": {
        "id": "KN4XMU4l9vCr"
      },
      "execution_count": null,
      "outputs": []
    },
    {
      "cell_type": "code",
      "source": [
        "\"\"\"生成图片\n",
        "\"\"\"\n",
        "from diffusers import DiffusionPipeline\n",
        "import torch\n",
        "\n",
        "model_id = \"/content/models/stable-diffusion-v1-5\"\n",
        "pipe = DiffusionPipeline.from_pretrained(model_id, torch_dtype=torch.float16)\n",
        "pipe = pipe.to(\"cuda\")\n",
        "\n",
        "prompt = \"a photo of cat\"\n",
        "images = pipe([prompt]*4, width=512, height=512, num_inference_steps=20).images\n",
        "\n",
        "for image in images:\n",
        "    display(image)"
      ],
      "metadata": {
        "id": "-ZYVniMC-D82"
      },
      "execution_count": null,
      "outputs": []
    }
  ]
}