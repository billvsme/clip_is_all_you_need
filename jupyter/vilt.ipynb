{
  "nbformat": 4,
  "nbformat_minor": 0,
  "metadata": {
    "colab": {
      "provenance": [],
      "gpuType": "T4",
      "machine_shape": "hm"
    },
    "kernelspec": {
      "name": "python3",
      "display_name": "Python 3"
    },
    "language_info": {
      "name": "python"
    },
    "accelerator": "GPU"
  },
  "cells": [
    {
      "cell_type": "code",
      "source": [
        "\"\"\"下载模型\n",
        "\"\"\"\n",
        "!mkdir /content/models\n",
        "!git clone --depth=1 https://huggingface.co/dandelin/vilt-b32-finetuned-vqa /content/models/vilt-b32-finetuned-vqa"
      ],
      "metadata": {
        "id": "BNiQc1C0_3IT"
      },
      "execution_count": null,
      "outputs": []
    },
    {
      "cell_type": "code",
      "source": [
        "\"\"\"图像问答, VQAv2数据集\n",
        "\"\"\"\n",
        "from IPython.display import display\n",
        "from transformers import ViltProcessor, ViltForQuestionAnswering\n",
        "import requests\n",
        "from PIL import Image\n",
        "\n",
        "# prepare image + question\n",
        "url = \"http://images.cocodataset.org/val2017/000000039769.jpg\"\n",
        "image = Image.open(requests.get(url, stream=True).raw)\n",
        "question = \"How many cats are there?\"\n",
        "\n",
        "model_id = \"/content/models/vilt-b32-finetuned-vqa\"\n",
        "processor = ViltProcessor.from_pretrained(model_id)\n",
        "model = ViltForQuestionAnswering.from_pretrained(model_id)\n",
        "\n",
        "# prepare inputs\n",
        "encoding = processor(image, question, return_tensors=\"pt\")\n",
        "\n",
        "# forward pass\n",
        "outputs = model(**encoding)\n",
        "logits = outputs.logits\n",
        "idx = logits.argmax(-1).item()\n",
        "\n",
        "print(\"问题:\", question)\n",
        "print(\"答案:\", model.config.id2label[idx])\n",
        "display(image)"
      ],
      "metadata": {
        "id": "GCkcgb9RAA57"
      },
      "execution_count": null,
      "outputs": []
    }
  ]
}