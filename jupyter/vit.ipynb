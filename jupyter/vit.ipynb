{
  "nbformat": 4,
  "nbformat_minor": 0,
  "metadata": {
    "colab": {
      "provenance": [],
      "gpuType": "T4"
    },
    "kernelspec": {
      "name": "python3",
      "display_name": "Python 3"
    },
    "language_info": {
      "name": "python"
    },
    "accelerator": "GPU"
  },
  "cells": [
    {
      "cell_type": "code",
      "execution_count": null,
      "metadata": {
        "id": "e1copy4hVP0t"
      },
      "outputs": [],
      "source": [
        "\"\"\"下载模型\n",
        "\"\"\"\n",
        "!mkdir -p /content/models\n",
        "!git clone https://huggingface.co/google/vit-base-patch16-224 /content/models/vit-base-patch16-224"
      ]
    },
    {
      "cell_type": "code",
      "source": [
        "\"\"\"demo\n",
        "\"\"\"\n",
        "from IPython.display import display\n",
        "from transformers import ViTImageProcessor, ViTForImageClassification\n",
        "from PIL import Image\n",
        "import requests\n",
        "\n",
        "url = 'http://images.cocodataset.org/val2017/000000039769.jpg'\n",
        "image = Image.open(requests.get(url, stream=True).raw)\n",
        "\n",
        "processor = ViTImageProcessor.from_pretrained('/content/models/vit-base-patch16-224')\n",
        "model = ViTForImageClassification.from_pretrained('/content/models/vit-base-patch16-224')\n",
        "\n",
        "inputs = processor(images=image, return_tensors=\"pt\")\n",
        "outputs = model(**inputs)\n",
        "logits = outputs.logits\n",
        "\n",
        "\n",
        "\n",
        "\n",
        "# ImageNet分类\n",
        "predicted_class_idx = logits.argmax(-1).item()\n",
        "print(\"分类:\", model.config.id2label[predicted_class_idx])\n",
        "display(image)\n"
      ],
      "metadata": {
        "id": "eC_HJ8o1V1-8"
      },
      "execution_count": null,
      "outputs": []
    }
  ]
}